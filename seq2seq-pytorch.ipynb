{
  "nbformat": 4,
  "nbformat_minor": 0,
  "metadata": {
    "colab": {
      "name": "seq2seq-pytorch.ipynb",
      "provenance": [],
      "collapsed_sections": []
    },
    "kernelspec": {
      "name": "python3",
      "display_name": "Python 3"
    },
    "language_info": {
      "name": "python"
    },
    "accelerator": "GPU"
  },
  "cells": [
    {
      "cell_type": "code",
      "metadata": {
        "id": "2INwUIhl67Rq"
      },
      "source": [
        "import matplotlib.pyplot as plt\n",
        "\n",
        "import spacy\n",
        "\n",
        "import random\n",
        "import time\n",
        "import math\n",
        "\n",
        "import torch\n",
        "import torch.nn as nn\n",
        "import torch.nn.functional as F\n",
        "import torch.optim as optim\n",
        "\n",
        "from torchtext.legacy.datasets import Multi30k\n",
        "from torchtext.legacy.data import Field, BucketIterator\n",
        "from torchtext.data.metrics import bleu_score"
      ],
      "execution_count": 45,
      "outputs": []
    },
    {
      "cell_type": "code",
      "metadata": {
        "id": "dNJ1GplIvYQU"
      },
      "source": [
        "MODEL_STORE_PATH = \"NLP/NMT/Seq2Seq/Seq2Seq\""
      ],
      "execution_count": 46,
      "outputs": []
    },
    {
      "cell_type": "code",
      "metadata": {
        "colab": {
          "base_uri": "https://localhost:8080/"
        },
        "id": "IXW34QrH7GJ9",
        "outputId": "08d78769-4e09-4216-ada1-a9c1828dcb04"
      },
      "source": [
        "device = torch.device(\"cuda\" if torch.cuda.is_available() else \"cpu\")\n",
        "print(\"Notebook is running on\", device)"
      ],
      "execution_count": 4,
      "outputs": [
        {
          "output_type": "stream",
          "text": [
            "Notebook is running on cuda\n"
          ],
          "name": "stdout"
        }
      ]
    },
    {
      "cell_type": "code",
      "metadata": {
        "id": "tDiDWP_N7DOt"
      },
      "source": [
        "SEED = 1729\n",
        "\n",
        "random.seed(SEED)\n",
        "torch.manual_seed(SEED)\n",
        "torch.cuda.manual_seed(SEED)\n",
        "torch.backends.cudnn.deterministic = True"
      ],
      "execution_count": 44,
      "outputs": []
    },
    {
      "cell_type": "code",
      "metadata": {
        "id": "l2a1bGhEqezU"
      },
      "source": [
        "def elapsed_time(start_time, end_time):\n",
        "    time_taken = end_time - start_time\n",
        "    elapsed_min = int(time_taken / 60)\n",
        "    elapsed_sec = int(time_taken - (elapsed_min * 60))\n",
        "    \n",
        "    return elapsed_min, elapsed_sec"
      ],
      "execution_count": 6,
      "outputs": []
    },
    {
      "cell_type": "markdown",
      "metadata": {
        "id": "mpWzhs7pDoGy"
      },
      "source": [
        "# Data Preprocessing"
      ]
    },
    {
      "cell_type": "code",
      "metadata": {
        "id": "kjaDSsB374eA"
      },
      "source": [
        "!python -m spacy download de\n",
        "!python -m spacy download en"
      ],
      "execution_count": null,
      "outputs": []
    },
    {
      "cell_type": "code",
      "metadata": {
        "id": "9eLO9mNA7ek8"
      },
      "source": [
        "de_model = spacy.load('de')\n",
        "en_model = spacy.load('en')"
      ],
      "execution_count": 8,
      "outputs": []
    },
    {
      "cell_type": "code",
      "metadata": {
        "id": "k4WiPmda8FKC"
      },
      "source": [
        "def tokenize_en(sentence):\n",
        "    tokens = []\n",
        "    for token in de_model.tokenizer(sentence):\n",
        "        tokens.append(token.text.lower())\n",
        "    \n",
        "    return tokens\n",
        "\n",
        "def tokenize_de(sentence):\n",
        "    tokens = []\n",
        "    for token in en_model.tokenizer(sentence):\n",
        "        tokens.append(token.text.lower())\n",
        "    \n",
        "    return tokens"
      ],
      "execution_count": 9,
      "outputs": []
    },
    {
      "cell_type": "code",
      "metadata": {
        "colab": {
          "base_uri": "https://localhost:8080/"
        },
        "id": "hQuPoHbgQYXN",
        "outputId": "8416ebea-b6c7-4a6a-afce-1a99ea2129b1"
      },
      "source": [
        "print(tokenize_de(\"Hallo, wie geht's Ihnen?\"))\n",
        "print(tokenize_en(\"Hello, how are you?\"))"
      ],
      "execution_count": 10,
      "outputs": [
        {
          "output_type": "stream",
          "text": [
            "['hallo', ',', 'wie', 'geht', \"'s\", 'ihnen', '?']\n",
            "['hello', ',', 'how', 'are', 'you', '?']\n"
          ],
          "name": "stdout"
        }
      ]
    },
    {
      "cell_type": "code",
      "metadata": {
        "id": "sfZMwzrO80F0"
      },
      "source": [
        "SOURCE_Field = Field(eos_token = '<eos>', init_token = '<sos>', lower = True, tokenize = tokenize_de)\n",
        "TARGET_Field = Field(eos_token = '<eos>', init_token = '<sos>', lower = True, tokenize = tokenize_en)"
      ],
      "execution_count": 11,
      "outputs": []
    },
    {
      "cell_type": "code",
      "metadata": {
        "id": "w2zg77gL8-_C",
        "colab": {
          "base_uri": "https://localhost:8080/"
        },
        "outputId": "b471ff18-d26f-46ab-aa3a-6df0a2e0d13c"
      },
      "source": [
        "start_time = time.time()\n",
        "train_data, valid_data, test_data = Multi30k.splits(exts = ('.de', '.en'), fields = (SOURCE_Field, TARGET_Field))\n",
        "end_time = time.time()"
      ],
      "execution_count": 12,
      "outputs": [
        {
          "output_type": "stream",
          "text": [
            "downloading training.tar.gz\n"
          ],
          "name": "stdout"
        },
        {
          "output_type": "stream",
          "text": [
            "training.tar.gz: 100%|██████████| 1.21M/1.21M [00:01<00:00, 866kB/s]\n"
          ],
          "name": "stderr"
        },
        {
          "output_type": "stream",
          "text": [
            "downloading validation.tar.gz\n"
          ],
          "name": "stdout"
        },
        {
          "output_type": "stream",
          "text": [
            "validation.tar.gz: 100%|██████████| 46.3k/46.3k [00:00<00:00, 166kB/s]\n"
          ],
          "name": "stderr"
        },
        {
          "output_type": "stream",
          "text": [
            "downloading mmt_task1_test2016.tar.gz\n"
          ],
          "name": "stdout"
        },
        {
          "output_type": "stream",
          "text": [
            "mmt_task1_test2016.tar.gz: 100%|██████████| 66.2k/66.2k [00:00<00:00, 158kB/s]\n"
          ],
          "name": "stderr"
        }
      ]
    },
    {
      "cell_type": "code",
      "metadata": {
        "colab": {
          "base_uri": "https://localhost:8080/"
        },
        "id": "yUqxnrubEolV",
        "outputId": "a341b7ce-22e3-42c2-a54d-92ffca7bf300"
      },
      "source": [
        "print(\"Time taken to generate train, valid and test datasets:\",elapsed_time(start_time, end_time))"
      ],
      "execution_count": 13,
      "outputs": [
        {
          "output_type": "stream",
          "text": [
            "Time taken to generate train, valid and test datasets: (0, 9)\n"
          ],
          "name": "stdout"
        }
      ]
    },
    {
      "cell_type": "code",
      "metadata": {
        "colab": {
          "base_uri": "https://localhost:8080/"
        },
        "id": "Gd-olDi7qwje",
        "outputId": "eb64a267-de87-4c26-a254-03da3955e91e"
      },
      "source": [
        "print(f\"Number of training examples: {len(train_data.examples)}\")\n",
        "print(f\"Number of validation examples: {len(valid_data.examples)}\")\n",
        "print(f\"Number of testing examples: {len(test_data.examples)}\")"
      ],
      "execution_count": 14,
      "outputs": [
        {
          "output_type": "stream",
          "text": [
            "Number of training examples: 29000\n",
            "Number of validation examples: 1014\n",
            "Number of testing examples: 1000\n"
          ],
          "name": "stdout"
        }
      ]
    },
    {
      "cell_type": "code",
      "metadata": {
        "id": "j89zk0IfSy83"
      },
      "source": [
        "SOURCE_Field.build_vocab(train_data, min_freq = 2)\n",
        "TARGET_Field.build_vocab(train_data, min_freq = 2)"
      ],
      "execution_count": 15,
      "outputs": []
    },
    {
      "cell_type": "code",
      "metadata": {
        "id": "tAc9PnhLS4LD",
        "colab": {
          "base_uri": "https://localhost:8080/"
        },
        "outputId": "af2aea05-b5e9-493b-8827-f8a15495aab9"
      },
      "source": [
        "print(f\"Vocabulary Size of Source Language: {len(SOURCE_Field.vocab)}\")\n",
        "print(f\"Vocabulary Size of Target Language: {len(TARGET_Field.vocab)}\")"
      ],
      "execution_count": 16,
      "outputs": [
        {
          "output_type": "stream",
          "text": [
            "Vocabulary Size of Source Language: 7873\n",
            "Vocabulary Size of Target Language: 5923\n"
          ],
          "name": "stdout"
        }
      ]
    },
    {
      "cell_type": "markdown",
      "metadata": {
        "id": "JGJFzqc1S_pg"
      },
      "source": [
        "# Neural Network"
      ]
    },
    {
      "cell_type": "markdown",
      "metadata": {
        "id": "IZAYJAsonIuW"
      },
      "source": [
        "### Encoder\n",
        "\n",
        "* The encoder is the first stage of Seq2Seq, and is a unidirectional two-layer RNN. (`num_layers = 2`)\n",
        "* The input given to it is the sequence of words (in the source language). [`input`] = `[time_steps, batch_size]`\n",
        "* The sequence needs to be converted to dense vectors to get their word representations. This is the actual input given (and the initial hidden state of RNN) to the RNN. (`embedded = self.dropout(self.embedding(input))`)  \n",
        "\n",
        "    `[embedded]` = `[time_steps, batch_size, embedding_dim]`\n",
        "    \n",
        "    \n",
        "* These embedded vectors are then passed inside the RNN, to get the output, and the final hidden state after going through each timestep ie. after it has gone through the whole sequence. (`output_rnn, states = self.rnn(embedded)`)\n",
        "\n",
        "    `[output_rnn] = [time_steps, batch_size, num_directions*hidden_dim]`\n",
        "\n",
        "    `[states] = (hidden, cell) = [num_layers*num_directions, batch_size, hidden_dim]`\n",
        "\n",
        "     Here `num_directions` is 1\n",
        "\n",
        "* This output will be used by the Decoder in the next stage"
      ]
    },
    {
      "cell_type": "code",
      "metadata": {
        "id": "gBB-FsKcTDz_"
      },
      "source": [
        "class Encoder(nn.Module):\n",
        "    def __init__(self, vocab_size, embedding_dim, hidden_dim, num_layers, enc_dropout):\n",
        "        super(Encoder, self).__init__()\n",
        "        self.embedding = nn.Embedding(vocab_size, embedding_dim)\n",
        "        self.rnn = nn.LSTM(input_size = embedding_dim, hidden_size = hidden_dim, num_layers = num_layers, dropout = enc_dropout)\n",
        "        self.dropout = nn.Dropout(enc_dropout)\n",
        "\n",
        "    def forward(self, input):\n",
        "        # [input] = [time_steps, batch_size]\n",
        "        embedded = self.dropout(self.embedding(input))                          # [embedded] = [time_steps, batch_size, embedding_dim]\n",
        "        output_rnn, states = self.rnn(embedded)                                 # [output_rnn] = [time_steps, batch_size, num_directions*hidden_dim]   Here, number of directions is 1\n",
        "                                                                                # [states] = (hidden, cell) = [num_layers*num_directions, batch_size, hidden_dim]\n",
        "        return states\n"
      ],
      "execution_count": 17,
      "outputs": []
    },
    {
      "cell_type": "markdown",
      "metadata": {
        "id": "R0qbTur-nMXJ"
      },
      "source": [
        "### Decoder\n",
        "\n",
        "* The Decoder is the second stage of Seq2Seq, and it also a unidirectional two-layer RNN. (`num_layers = 2`)\n",
        "* The input given to it is a word (in the target language) -  [`input`] = `[time_steps = 1, batch_size]` (and the initial hidden state of RNN)\n",
        "* The initial hidden state of the RNN will be the output hidden state of the Encoder RNN. ie. the context vector that is produced after it went through the sequence in the source language.\n",
        "* The word needs to be converted to a dense vector to get its word representation. This is the actual input given to the Decoder RNN. `[embedded]` = `[time_steps = 1, batch_size, embedding_dim]`\n",
        "    \n",
        "    `embedded = self.dropout(self.embedding(input))`  \n",
        "* These embedded vectors (along with the hidden state) of those timesteps are then passed inside the RNN, to get the output and the hidden state of the next cell. (`output_rnn, states = self.rnn(embedded)`)\n",
        "\n",
        "    `[output_rnn] = [time_steps, batch_size, num_directions*hidden_dim]`\n",
        "\n",
        "    `[states] = (hidden, cell) = [num_layers*num_directions, batch_size, hidden_dim]`\n",
        "\n",
        "     Here number of directions is 1\n",
        "* However this output needs to be passed into a Linear layer first to get the actual predicted word. (`output = self.fc(output).unsqueeze(0)`)\n",
        "\n",
        "    `[output]` = `[time_steps, batch_size, vocab_size]`"
      ]
    },
    {
      "cell_type": "code",
      "metadata": {
        "id": "7BB8adYlUkpo"
      },
      "source": [
        "class Decoder(nn.Module):\n",
        "    def __init__(self, vocab_size, embedding_dim, hidden_dim, num_layers, dec_dropout):\n",
        "        super(Decoder, self).__init__()\n",
        "        self.hidden_dim = hidden_dim\n",
        "        self.output_dim = vocab_size\n",
        "        self.embedding = nn.Embedding(vocab_size, embedding_dim)\n",
        "        self.rnn = nn.LSTM(input_size = embedding_dim, hidden_size = hidden_dim, num_layers = num_layers, dropout = dec_dropout)\n",
        "        self.fc = nn.Linear(hidden_dim, vocab_size)\n",
        "        self.dropout = nn.Dropout(dec_dropout)\n",
        "\n",
        "    def forward(self, input, states):\n",
        "        # input = [1, batch_size]\n",
        "        embedded = self.dropout(self.embedding(input))                          # [embedded] = [time_steps = 1, batch_size, embedding_dim]\n",
        "        output_rnn, states = self.rnn(embedded, states)                         # [output_rnn] = [time_steps = 1, batch_size, num_directions*hidden_dim]   Here, number of directions is 1\n",
        "        output = self.fc(output_rnn).unsqueeze(0)                               # [output] = [time_steps = 1, batch_size, vocab_size]\n",
        "\n",
        "        return output, states"
      ],
      "execution_count": 18,
      "outputs": []
    },
    {
      "cell_type": "markdown",
      "metadata": {
        "id": "VWbtifBQnQlZ"
      },
      "source": [
        "## Seq2Seq\n",
        "\n",
        "We now combine Encoder and Decoder to create the Seq2Seq model.\n",
        "\n",
        "    def __init__(self, encoder, decoder):\n",
        "        super(Seq2Seq, self).__init__()\n",
        "        self.encoder = encoder\n",
        "        self.decoder = decoder\n",
        "\n",
        "* As mentioned earlier, the encoder is the first component of the Seq2Seq model. Hence, the input to the Encoder is actually the input given to the Seq2Seq model: (`enc_input = input`)\n",
        "\n",
        "    `[enc_input] = [time_steps, batch_size]`\n",
        "\n",
        "* We obtain the output of the Encoder by passing this `enc_input` through the Encoder. (`enc_states = self.encoder(enc_input)`), which is the final hidden state after going through the whole sequence in the source language.\n",
        "* These output hidden states of the encoder will be the initial hidden state of the decoder. It is the context vector of the whole sequence in source language. (`dec_states = enc_states`)\n",
        "\n",
        "**Note:** The target vector (`target`) is the entire sequence in the target language. However, unlike in the encoder, we simply *can not* pass in the whole sequence all at once into the decoder. This is simply because we do not know the output sequence yet - this is what we have to predict! \n",
        "\n",
        "* Hence, we need to pass in the first word (and the initial hidden state ie. `dec_states`) into the decoder, get the output and hidden states, and then pass these again again to compute the output and hidden state of the next timestep. This is done until we reach the end of the sequence ie. until `time_steps`\n",
        "      dec_input = target[0].unsqueeze(0) \n",
        "      for t in range(1, time_steps):\n",
        "          output, dec_states = self.decoder(dec_input, dec_states) \n",
        "          output = output.squeeze()                        \n",
        "          predictions[t] = output.view(batch_size, self.decoder.output_dim)\n",
        "          if random.random() < teacher_forcing_ratio:\n",
        "              dec_input = target[t].unsqueeze(0)\n",
        "          else:\n",
        "              dec_input = output.argmax(1).unsqueeze(0)\n",
        "\n",
        "* **Teacher forcing ratio** is the use of the expected output instead of the actual output at a time step as the input for the next time step. ie. if `teacher_forcing_ratio` is 0.75, then the expected output is used as input 75% of the time.\n",
        "\n",
        "* Finally, we return the predictions, which is the predicted sequence in the target language. Note that we have returned `predictions[1:]` and not `predictions`. This because the first word in `predictions` is `<sos>` (start-of-sequence token)."
      ]
    },
    {
      "cell_type": "code",
      "metadata": {
        "id": "h6rtb2ZdXkhG"
      },
      "source": [
        "class Seq2Seq(nn.Module):\n",
        "    def __init__(self, encoder, decoder):\n",
        "        super(Seq2Seq, self).__init__()\n",
        "        self.encoder = encoder\n",
        "        self.decoder = decoder\n",
        "    \n",
        "    def forward(self, input, target, teacher_forcing_ratio):\n",
        "        enc_input = input                                                                         # [enc_input] = [time_steps, batch_size]\n",
        "        enc_states = self.encoder(enc_input)\n",
        "        dec_states = enc_states\n",
        "        # [target] = [time_steps, batch_size]                                                 \n",
        "        time_steps = target.shape[0]\n",
        "        batch_size = target.shape[1]\n",
        "        predictions = torch.zeros(time_steps, batch_size, self.decoder.output_dim).to(device)     # [predictions] = [time_steps, batch_size, output_dim]\n",
        "        dec_input = target[0].unsqueeze(0)                                                        # [dec_input] = [1, batch_size] - First time_step is given as input\n",
        "        for t in range(1, time_steps):\n",
        "            output, dec_states = self.decoder(dec_input, dec_states) \n",
        "            output = output.squeeze()                        \n",
        "            predictions[t] = output.view(batch_size, self.decoder.output_dim)\n",
        "            if random.random() < teacher_forcing_ratio:\n",
        "                dec_input = target[t].unsqueeze(0)\n",
        "            else:\n",
        "                dec_input = output.argmax(1).unsqueeze(0)\n",
        "\n",
        "        return predictions[1:]"
      ],
      "execution_count": 19,
      "outputs": []
    },
    {
      "cell_type": "code",
      "metadata": {
        "id": "QSoM9JilnK8P"
      },
      "source": [
        "def epoch_train(train_iterator, model, criterion, optimizer, clip=1):\n",
        "    model.train()\n",
        "    epoch_loss = 0\n",
        "    for batch in train_iterator:\n",
        "        model.zero_grad()\n",
        "        batch_source = batch.src\n",
        "        batch_target = batch.trg\n",
        "        batch_outputs = model(batch_source, batch_target, teacher_forcing_ratio=0.5)\n",
        "        batch_outputs = batch_outputs.view(-1, batch_outputs.shape[-1])\n",
        "        batch_targets = batch_target[1:].view(-1)\n",
        "        batch_loss = criterion(batch_outputs, batch_targets.to(device))\n",
        "        batch_loss.backward()\n",
        "        torch.nn.utils.clip_grad_norm_(model.parameters(), clip)\n",
        "        optimizer.step()\n",
        "        epoch_loss += batch_loss.item()\n",
        "\n",
        "    return epoch_loss/len(train_iterator)"
      ],
      "execution_count": 20,
      "outputs": []
    },
    {
      "cell_type": "code",
      "metadata": {
        "id": "gc0nXUTknY0x"
      },
      "source": [
        "def epoch_test(test_iterator, model, criterion):\n",
        "    model.eval()\n",
        "    eval_loss = 0\n",
        "    with torch.no_grad():\n",
        "        for batch in test_iterator:\n",
        "            model.zero_grad()\n",
        "            batch_source = batch.src\n",
        "            batch_target = batch.trg\n",
        "            batch_outputs = model(batch_source, batch_target, 0)\n",
        "            batch_outputs = batch_outputs.view(-1, batch_outputs.shape[-1])\n",
        "            batch_targets = batch_target[1:].view(-1)\n",
        "            batch_loss = criterion(batch_outputs, batch_targets.to(device))\n",
        "            eval_loss += batch_loss.item()\n",
        "        \n",
        "        return eval_loss/len(test_iterator)"
      ],
      "execution_count": 21,
      "outputs": []
    },
    {
      "cell_type": "markdown",
      "metadata": {
        "id": "D769Z-ADDsO5"
      },
      "source": [
        "# Hyperparameters"
      ]
    },
    {
      "cell_type": "code",
      "metadata": {
        "id": "JIAGDlkuqlRv"
      },
      "source": [
        "BATCH_SIZE = 128\n",
        "\n",
        "train_iterator, valid_iterator, test_iterator = BucketIterator.splits((train_data, valid_data, test_data), batch_size = BATCH_SIZE, device = device)"
      ],
      "execution_count": 22,
      "outputs": []
    },
    {
      "cell_type": "code",
      "metadata": {
        "id": "_CYgdvucqojH"
      },
      "source": [
        "CLIP = 1\n",
        "NUM_EPOCHS = 20\n",
        "LR = 1e-3\n",
        "HIDDEN_DIM = 512\n",
        "SRC_VOCAB_SIZE = len(SOURCE_Field.vocab)\n",
        "TRG_VOCAB_SIZE = len(TARGET_Field.vocab)\n",
        "EMBEDDING_DIM = 256\n",
        "NUM_LAYERS = 2\n",
        "ENC_DROPOUT = 0.5\n",
        "DEC_DROPOUT = 0.5\n",
        "\n",
        "PRINT_EVERY = 1"
      ],
      "execution_count": 23,
      "outputs": []
    },
    {
      "cell_type": "code",
      "metadata": {
        "id": "ZDfHAB6Jq6KO"
      },
      "source": [
        "target_padding_index = TARGET_Field.vocab.stoi[TARGET_Field.pad_token]\n",
        "criterion = nn.CrossEntropyLoss(ignore_index = target_padding_index)"
      ],
      "execution_count": 24,
      "outputs": []
    },
    {
      "cell_type": "code",
      "metadata": {
        "id": "HskwpEgErAFc"
      },
      "source": [
        "encoder = Encoder(SRC_VOCAB_SIZE, EMBEDDING_DIM, HIDDEN_DIM, NUM_LAYERS, ENC_DROPOUT).to(device)\n",
        "decoder = Decoder(TRG_VOCAB_SIZE, EMBEDDING_DIM, HIDDEN_DIM, NUM_LAYERS, DEC_DROPOUT).to(device)\n",
        "seq2seq = Seq2Seq(encoder, decoder).to(device)\n",
        "optimizer = optim.AdamW(seq2seq.parameters(), LR)"
      ],
      "execution_count": 25,
      "outputs": []
    },
    {
      "cell_type": "code",
      "metadata": {
        "id": "99lmBmZ7rCYL"
      },
      "source": [
        "def init_weights(m):\n",
        "    for name, param in m.named_parameters():\n",
        "        nn.init.uniform_(param.data, -0.08, 0.08)"
      ],
      "execution_count": 26,
      "outputs": []
    },
    {
      "cell_type": "code",
      "metadata": {
        "colab": {
          "base_uri": "https://localhost:8080/"
        },
        "id": "hULvKdUxrIkh",
        "outputId": "7e6f2a9b-7b91-40c0-c4b7-56829feecddb"
      },
      "source": [
        "seq2seq.apply(init_weights)"
      ],
      "execution_count": 27,
      "outputs": [
        {
          "output_type": "execute_result",
          "data": {
            "text/plain": [
              "Seq2Seq(\n",
              "  (encoder): Encoder(\n",
              "    (embedding): Embedding(7873, 256)\n",
              "    (rnn): LSTM(256, 512, num_layers=2, dropout=0.5)\n",
              "    (dropout): Dropout(p=0.5, inplace=False)\n",
              "  )\n",
              "  (decoder): Decoder(\n",
              "    (embedding): Embedding(5923, 256)\n",
              "    (rnn): LSTM(256, 512, num_layers=2, dropout=0.5)\n",
              "    (fc): Linear(in_features=512, out_features=5923, bias=True)\n",
              "    (dropout): Dropout(p=0.5, inplace=False)\n",
              "  )\n",
              ")"
            ]
          },
          "metadata": {
            "tags": []
          },
          "execution_count": 27
        }
      ]
    },
    {
      "cell_type": "code",
      "metadata": {
        "colab": {
          "base_uri": "https://localhost:8080/"
        },
        "id": "l9-MZwDErVal",
        "outputId": "a40143e5-6420-4157-b5b6-47e4dd9651c6"
      },
      "source": [
        "def count_parameters(model):\n",
        "    return sum(p.numel() for p in model.parameters() if p.requires_grad)\n",
        "\n",
        "print(f'The model has {count_parameters(seq2seq):,} trainable parameters.')"
      ],
      "execution_count": 28,
      "outputs": [
        {
          "output_type": "stream",
          "text": [
            "The model has 13,926,691 trainable parameters.\n"
          ],
          "name": "stdout"
        }
      ]
    },
    {
      "cell_type": "markdown",
      "metadata": {
        "id": "LMJobc37D39j"
      },
      "source": [
        "# Training"
      ]
    },
    {
      "cell_type": "code",
      "metadata": {
        "colab": {
          "base_uri": "https://localhost:8080/"
        },
        "id": "3dMBXEvWrYlw",
        "outputId": "4f079bdb-5297-44f4-a448-9363c29af0a5"
      },
      "source": [
        "print(f\"Learning Rate: {LR}, Hidden Dimensions: {HIDDEN_DIM}\",end=\"\\n\\n\")\n",
        "train_losses = []\n",
        "valid_losses = []\n",
        "start_time = time.time()\n",
        "print(\"Training started\",end=\"\\n\\n\")\n",
        "\n",
        "for epoch in range(1, NUM_EPOCHS + 1):\n",
        "\n",
        "    train_loss = epoch_train(train_iterator, seq2seq, criterion, optimizer, CLIP)\n",
        "    train_losses.append(train_loss)\n",
        "    valid_loss = epoch_test(test_iterator, seq2seq, criterion)\n",
        "    valid_losses.append(valid_loss)\n",
        "\n",
        "    if epoch % PRINT_EVERY == 0:\n",
        "        end_time = time.time()\n",
        "        elapsed_min, elapsed_sec = elapsed_time(start_time, end_time)\n",
        "        print(f\"Epoch {epoch} | Time taken since start of training: {elapsed_min}min {elapsed_sec}sec\")\n",
        "        print(f\"Training Loss: {train_loss:.4f} | Validation Loss: {valid_loss:.4f}\")\n",
        "        print(f\"Training PPL: {math.exp(train_loss):.4f} | Validation PPL: {math.exp(valid_loss):.4f}\")\n",
        "        print(\"\")\n",
        "\n",
        "print(\"Training finished\", end=\"\\n\\n\")\n",
        "elapsed_min, elapsed_sec = elapsed_time(start_time, end_time)\n",
        "print(f\"Total time taken for training: {elapsed_min}min {elapsed_sec}sec\")\n",
        "elapsed_min, elapsed_sec = elapsed_time(start_time/NUM_EPOCHS, end_time/NUM_EPOCHS)\n",
        "print(f\"Average time taken per epoch: {elapsed_min}min {elapsed_sec}sec\")"
      ],
      "execution_count": 30,
      "outputs": [
        {
          "output_type": "stream",
          "text": [
            "Learning Rate: 0.001, Hidden Dimensions: 512\n",
            "\n",
            "Training started\n",
            "\n",
            "Epoch 1 | Time taken since start of training: 0min 34sec\n",
            "Training Loss: 5.0368 | Validation Loss: 5.0542\n",
            "Training PPL: 153.9705 | Validation PPL: 156.6861\n",
            "\n",
            "Epoch 2 | Time taken since start of training: 1min 10sec\n",
            "Training Loss: 4.4383 | Validation Loss: 4.6751\n",
            "Training PPL: 84.6349 | Validation PPL: 107.2385\n",
            "\n",
            "Epoch 3 | Time taken since start of training: 1min 46sec\n",
            "Training Loss: 4.1070 | Validation Loss: 4.4943\n",
            "Training PPL: 60.7646 | Validation PPL: 89.5088\n",
            "\n",
            "Epoch 4 | Time taken since start of training: 2min 21sec\n",
            "Training Loss: 3.8802 | Validation Loss: 4.3706\n",
            "Training PPL: 48.4345 | Validation PPL: 79.0939\n",
            "\n",
            "Epoch 5 | Time taken since start of training: 2min 57sec\n",
            "Training Loss: 3.7327 | Validation Loss: 4.2455\n",
            "Training PPL: 41.7922 | Validation PPL: 69.7912\n",
            "\n",
            "Epoch 6 | Time taken since start of training: 3min 32sec\n",
            "Training Loss: 3.5700 | Validation Loss: 4.1160\n",
            "Training PPL: 35.5178 | Validation PPL: 61.3135\n",
            "\n",
            "Epoch 7 | Time taken since start of training: 4min 8sec\n",
            "Training Loss: 3.4132 | Validation Loss: 3.9525\n",
            "Training PPL: 30.3626 | Validation PPL: 52.0643\n",
            "\n",
            "Epoch 8 | Time taken since start of training: 4min 43sec\n",
            "Training Loss: 3.2908 | Validation Loss: 3.9291\n",
            "Training PPL: 26.8645 | Validation PPL: 50.8593\n",
            "\n",
            "Epoch 9 | Time taken since start of training: 5min 19sec\n",
            "Training Loss: 3.1456 | Validation Loss: 3.7784\n",
            "Training PPL: 23.2328 | Validation PPL: 43.7470\n",
            "\n",
            "Epoch 10 | Time taken since start of training: 5min 54sec\n",
            "Training Loss: 3.0241 | Validation Loss: 3.7232\n",
            "Training PPL: 20.5747 | Validation PPL: 41.3985\n",
            "\n",
            "Epoch 11 | Time taken since start of training: 6min 30sec\n",
            "Training Loss: 2.9238 | Validation Loss: 3.7087\n",
            "Training PPL: 18.6113 | Validation PPL: 40.8025\n",
            "\n",
            "Epoch 12 | Time taken since start of training: 7min 5sec\n",
            "Training Loss: 2.7989 | Validation Loss: 3.6460\n",
            "Training PPL: 16.4274 | Validation PPL: 38.3223\n",
            "\n",
            "Epoch 13 | Time taken since start of training: 7min 41sec\n",
            "Training Loss: 2.6798 | Validation Loss: 3.6680\n",
            "Training PPL: 14.5817 | Validation PPL: 39.1736\n",
            "\n",
            "Epoch 14 | Time taken since start of training: 8min 17sec\n",
            "Training Loss: 2.6183 | Validation Loss: 3.5958\n",
            "Training PPL: 13.7127 | Validation PPL: 36.4453\n",
            "\n",
            "Epoch 15 | Time taken since start of training: 8min 52sec\n",
            "Training Loss: 2.5127 | Validation Loss: 3.5510\n",
            "Training PPL: 12.3381 | Validation PPL: 34.8486\n",
            "\n",
            "Epoch 16 | Time taken since start of training: 9min 28sec\n",
            "Training Loss: 2.4476 | Validation Loss: 3.5437\n",
            "Training PPL: 11.5605 | Validation PPL: 34.5947\n",
            "\n",
            "Epoch 17 | Time taken since start of training: 10min 3sec\n",
            "Training Loss: 2.3949 | Validation Loss: 3.5207\n",
            "Training PPL: 10.9668 | Validation PPL: 33.8065\n",
            "\n",
            "Epoch 18 | Time taken since start of training: 10min 39sec\n",
            "Training Loss: 2.2848 | Validation Loss: 3.5818\n",
            "Training PPL: 9.8238 | Validation PPL: 35.9394\n",
            "\n",
            "Epoch 19 | Time taken since start of training: 11min 14sec\n",
            "Training Loss: 2.2456 | Validation Loss: 3.5362\n",
            "Training PPL: 9.4459 | Validation PPL: 34.3367\n",
            "\n",
            "Epoch 20 | Time taken since start of training: 11min 49sec\n",
            "Training Loss: 2.1428 | Validation Loss: 3.5904\n",
            "Training PPL: 8.5235 | Validation PPL: 36.2474\n",
            "\n",
            "Training finished\n",
            "\n",
            "Total time taken for training: 11min 49sec\n",
            "Average time taken per epoch: 0min 35sec\n"
          ],
          "name": "stdout"
        }
      ]
    },
    {
      "cell_type": "code",
      "metadata": {
        "id": "PGiYVb2DyhxA"
      },
      "source": [
        "torch.save(seq2seq.state_dict(), MODEL_STORE_PATH + \".pth\")"
      ],
      "execution_count": 31,
      "outputs": []
    },
    {
      "cell_type": "code",
      "metadata": {
        "colab": {
          "base_uri": "https://localhost:8080/",
          "height": 312
        },
        "id": "b0lHdHbuvO_2",
        "outputId": "fda56e07-45b4-455e-a57c-554900276f56"
      },
      "source": [
        "plt.title(\"Seq2Seq: Learning Curves\")\n",
        "plt.xlabel(\"Number of Epochs\")\n",
        "plt.ylabel(\"Cross Entropy Loss\")\n",
        "plt.plot(train_losses, label = \"Training Loss\")\n",
        "plt.plot(valid_losses, label= \"Validation Loss\")\n",
        "plt.legend()\n",
        "plt.show()\n",
        "plt.savefig(MODEL_STORE_PATH + \".jpeg\")\n"
      ],
      "execution_count": 32,
      "outputs": [
        {
          "output_type": "display_data",
          "data": {
            "image/png": "[encoded data removed]",
            "text/plain": [
              "<Figure size 432x288 with 1 Axes>"
            ]
          },
          "metadata": {
            "tags": [],
            "needs_background": "light"
          }
        },
        {
          "output_type": "display_data",
          "data": {
            "text/plain": [
              "<Figure size 432x288 with 0 Axes>"
            ]
          },
          "metadata": {
            "tags": []
          }
        }
      ]
    },
    {
      "cell_type": "markdown",
      "metadata": {
        "id": "f8ypXaNJ1iLo"
      },
      "source": [
        "# Testing"
      ]
    },
    {
      "cell_type": "code",
      "metadata": {
        "colab": {
          "base_uri": "https://localhost:8080/"
        },
        "id": "-hG6m6_qsJKS",
        "outputId": "581b8095-1244-4523-cf16-3ea56f31831d"
      },
      "source": [
        "seq2seq.load_state_dict(torch.load(MODEL_STORE_PATH + \".pth\"))"
      ],
      "execution_count": 33,
      "outputs": [
        {
          "output_type": "execute_result",
          "data": {
            "text/plain": [
              "<All keys matched successfully>"
            ]
          },
          "metadata": {
            "tags": []
          },
          "execution_count": 33
        }
      ]
    },
    {
      "cell_type": "code",
      "metadata": {
        "colab": {
          "base_uri": "https://localhost:8080/"
        },
        "id": "OJ5jMPYP2Ged",
        "outputId": "7fe15f1d-f281-47d8-e021-200d52a20c90"
      },
      "source": [
        "seq2seq.eval()\n",
        "test_loss = epoch_test(test_iterator, seq2seq, criterion)\n",
        "print(f\"Test Loss: {test_loss:.4f} | Test PPL: {math.exp(test_loss):.4f}\")\n"
      ],
      "execution_count": 34,
      "outputs": [
        {
          "output_type": "stream",
          "text": [
            "Test Loss: 3.5904 | Test PPL: 36.2474\n"
          ],
          "name": "stdout"
        }
      ]
    },
    {
      "cell_type": "code",
      "metadata": {
        "id": "ZJJbfSHN2eoX"
      },
      "source": [
        "def getInputTensor(sentence, src_field):\n",
        "    tokens = [src_field.init_token] + [token for token in sentence] + [src_field.eos_token]\n",
        "    seq_len = len(tokens)\n",
        "    input_tensor = torch.LongTensor([src_field.vocab.stoi[token] for token in tokens]).to(device)\n",
        "    return input_tensor.view(seq_len, 1)"
      ],
      "execution_count": 35,
      "outputs": []
    },
    {
      "cell_type": "code",
      "metadata": {
        "id": "FjFpIdSP2PzW"
      },
      "source": [
        "def Translate(src_sentence, src_field, trg_field, model):\n",
        "    input_tensor = getInputTensor(src_sentence, src_field)\n",
        "    max_len = 4*input_tensor.shape[0]\n",
        "\n",
        "    with torch.no_grad():\n",
        "        enc_states = model.encoder(input_tensor)\n",
        "    dec_states = enc_states\n",
        "    sos_id = trg_field.vocab.stoi[trg_field.init_token]\n",
        "    eos_id = trg_field.vocab.stoi[trg_field.eos_token]\n",
        "    predicts = [sos_id]\n",
        "    len = 1\n",
        "    while len < max_len:\n",
        "        input = torch.LongTensor([predicts[-1]]).view((1, 1)).to(device)\n",
        "        with torch.no_grad():\n",
        "            output, dec_states = model.decoder(input, dec_states)\n",
        "        output = output.squeeze()\n",
        "        output = output.view(-1, model.decoder.output_dim)\n",
        "        predicts.append(output.argmax(-1).item())\n",
        "        len += 1\n",
        "        if predicts[-1] == eos_id:\n",
        "            break\n",
        "    sentence = [trg_field.vocab.itos[id] for id in predicts[1:]]\n",
        "    return sentence"
      ],
      "execution_count": 38,
      "outputs": []
    },
    {
      "cell_type": "code",
      "metadata": {
        "colab": {
          "base_uri": "https://localhost:8080/"
        },
        "id": "JLvNkxeC2UDz",
        "outputId": "e81799ff-f594-47bc-f32b-6925f4e3c74a"
      },
      "source": [
        "idx = int(random.random() * len(test_data.examples))\n",
        "example = test_data.examples[idx]\n",
        "src_sentence = example.src\n",
        "trg_sentence = example.trg\n",
        "print(\"German Sentence: \", ' '.join(src_sentence))\n",
        "translation = Translate(src_sentence, SOURCE_Field, TARGET_Field, seq2seq)\n",
        "print(\"Predicted Translation: \", ' '.join(translation[:-1]))\n",
        "print(\"Actual Translation: \", ' '.join(trg_sentence))"
      ],
      "execution_count": 41,
      "outputs": [
        {
          "output_type": "stream",
          "text": [
            "German Sentence:  ein kleines mädchen schiebt seinen roller über eine wiese mit bäumen .\n",
            "Predicted Translation:  a little girl is riding a tricycle in a field of grass .\n",
            "Actual Translation:  a little girl is pushing her scooter through a grassy tree lined field .\n"
          ],
          "name": "stdout"
        }
      ]
    },
    {
      "cell_type": "markdown",
      "metadata": {
        "id": "yO7J77lI2x5V"
      },
      "source": [
        "# BLEU Score"
      ]
    },
    {
      "cell_type": "code",
      "metadata": {
        "id": "q2d2PQv_2WOI"
      },
      "source": [
        "def Calculate_BLEU(data, src_field, trg_field, model):\n",
        "    trgs = []\n",
        "    predicted_trgs = []\n",
        "    for i in range(len(data.examples)):\n",
        "        src_sentence = vars(data[i])['src']\n",
        "        trg_sentence = vars(data[i])['trg']\n",
        "        try:                                # Sometimes(rarely) CUDA throws a \"Device side assert triggered\" error. So, just to avoid restarting runtime.\n",
        "            predicted_trg = Translate(src_sentence, src_field, trg_field, model)\n",
        "            predicted_trgs.append(predicted_trg[:-1])\n",
        "            trgs.append([trg_sentence])\n",
        "        except:\n",
        "            pass\n",
        "    return bleu_score(predicted_trgs, trgs)"
      ],
      "execution_count": 42,
      "outputs": []
    },
    {
      "cell_type": "code",
      "metadata": {
        "colab": {
          "base_uri": "https://localhost:8080/"
        },
        "id": "5f_V90wK20nx",
        "outputId": "c44ec0b0-c0bd-4fdd-d7e0-5240fc4925e8"
      },
      "source": [
        "bleu_score_test = Calculate_BLEU(test_data, SOURCE_Field, TARGET_Field, seq2seq)\n",
        "print(f\"BLEU score on Testing Data: {bleu_score_test*100:.2f}\")"
      ],
      "execution_count": 43,
      "outputs": [
        {
          "output_type": "stream",
          "text": [
            "BLEU score on Testing Data: 20.59\n"
          ],
          "name": "stdout"
        }
      ]
    }
  ]
}